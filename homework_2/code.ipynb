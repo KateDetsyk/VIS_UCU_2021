{
 "cells": [
  {
   "cell_type": "markdown",
   "id": "e7584460",
   "metadata": {},
   "source": [
    "# 02 - Створіть візуалізації, котрі відповідають на поставлені питання"
   ]
  },
  {
   "cell_type": "markdown",
   "id": "e9d7a30a",
   "metadata": {},
   "source": [
    "Ваше завдання створити візуалізації, котрі відповідають на наступні питання:\n",
    "\n",
    "- Як змінювалась структура генерації електроенергії за роками?\n",
    "\n",
    "- Як залежить споживання електроенергії від дня року та години доби?\n",
    "\n",
    "- Як змінюється генерація електроенергії з різних джерел впродовж доби?\n",
    "\n",
    "- Як змінюється споживання електроенергії впродовж доби у розрізі місяців року та пір року?\n",
    "\n",
    "- Як змінюється споживання електроенергії впродовж тижня?\n",
    "\n",
    "Ви самостійно маєте обрати спосіб візуалізації. Ви також маєте написати короткий супровідний текст до кожної візуалізації, котрий пояснює, чому ви обрали саме цей спосіб презентації даних, які ще альтернативи ви розглядали, та чому зупинились саме на цьому варіанті (які його переваги та недоліки).\n",
    "\n",
    "Джерело даних: Національна енергетична компанія \"Укренерго\""
   ]
  },
  {
   "cell_type": "markdown",
   "id": "008e3d14",
   "metadata": {},
   "source": [
    "## Підготовка даних"
   ]
  },
  {
   "cell_type": "code",
   "execution_count": 1,
   "id": "5b050645",
   "metadata": {},
   "outputs": [],
   "source": [
    "import pandas as pd\n",
    "import altair as alt\n",
    "import numpy as np"
   ]
  },
  {
   "cell_type": "code",
   "execution_count": 2,
   "id": "1c60ac42",
   "metadata": {},
   "outputs": [
    {
     "data": {
      "text/plain": [
       "DataTransformerRegistry.enable('default')"
      ]
     },
     "execution_count": 2,
     "metadata": {},
     "output_type": "execute_result"
    }
   ],
   "source": [
    "alt.data_transformers.enable('default', max_rows=None)"
   ]
  },
  {
   "cell_type": "code",
   "execution_count": 3,
   "id": "84634baf",
   "metadata": {},
   "outputs": [
    {
     "data": {
      "text/html": [
       "<div>\n",
       "<style scoped>\n",
       "    .dataframe tbody tr th:only-of-type {\n",
       "        vertical-align: middle;\n",
       "    }\n",
       "\n",
       "    .dataframe tbody tr th {\n",
       "        vertical-align: top;\n",
       "    }\n",
       "\n",
       "    .dataframe thead th {\n",
       "        text-align: right;\n",
       "    }\n",
       "</style>\n",
       "<table border=\"1\" class=\"dataframe\">\n",
       "  <thead>\n",
       "    <tr style=\"text-align: right;\">\n",
       "      <th></th>\n",
       "      <th>Час/Дата</th>\n",
       "      <th>AES</th>\n",
       "      <th>TEC</th>\n",
       "      <th>VDE</th>\n",
       "      <th>TES</th>\n",
       "      <th>GES</th>\n",
       "      <th>GAES_GEN</th>\n",
       "      <th>CONSUMPTION</th>\n",
       "      <th>GAES_PUMP</th>\n",
       "      <th>UK_BLR_RUS</th>\n",
       "      <th>UK_EURO</th>\n",
       "      <th>UK_MLD</th>\n",
       "      <th>Unnamed: 12</th>\n",
       "    </tr>\n",
       "  </thead>\n",
       "  <tbody>\n",
       "    <tr>\n",
       "      <th>0</th>\n",
       "      <td>24-31.12.2020</td>\n",
       "      <td>9235</td>\n",
       "      <td>2039</td>\n",
       "      <td>621</td>\n",
       "      <td>4942</td>\n",
       "      <td>385.0</td>\n",
       "      <td>0</td>\n",
       "      <td>16693</td>\n",
       "      <td>-405.0</td>\n",
       "      <td>-84.0</td>\n",
       "      <td>-11.0</td>\n",
       "      <td>-29.0</td>\n",
       "      <td>NaN</td>\n",
       "    </tr>\n",
       "    <tr>\n",
       "      <th>1</th>\n",
       "      <td>23-31.12.2020</td>\n",
       "      <td>9221</td>\n",
       "      <td>2159</td>\n",
       "      <td>707</td>\n",
       "      <td>5549</td>\n",
       "      <td>470.0</td>\n",
       "      <td>0</td>\n",
       "      <td>17805</td>\n",
       "      <td>0.0</td>\n",
       "      <td>-43.0</td>\n",
       "      <td>-212.0</td>\n",
       "      <td>-46.0</td>\n",
       "      <td>NaN</td>\n",
       "    </tr>\n",
       "    <tr>\n",
       "      <th>2</th>\n",
       "      <td>22-31.12.2020</td>\n",
       "      <td>9249</td>\n",
       "      <td>2377</td>\n",
       "      <td>709</td>\n",
       "      <td>5906</td>\n",
       "      <td>1000.0</td>\n",
       "      <td>0</td>\n",
       "      <td>18870</td>\n",
       "      <td>0.0</td>\n",
       "      <td>-13.0</td>\n",
       "      <td>-328.0</td>\n",
       "      <td>-30.0</td>\n",
       "      <td>NaN</td>\n",
       "    </tr>\n",
       "    <tr>\n",
       "      <th>3</th>\n",
       "      <td>21-31.12.2020</td>\n",
       "      <td>9256</td>\n",
       "      <td>2499</td>\n",
       "      <td>702</td>\n",
       "      <td>6329</td>\n",
       "      <td>909.0</td>\n",
       "      <td>322</td>\n",
       "      <td>19887</td>\n",
       "      <td>0.0</td>\n",
       "      <td>0.0</td>\n",
       "      <td>-64.0</td>\n",
       "      <td>-66.0</td>\n",
       "      <td>NaN</td>\n",
       "    </tr>\n",
       "    <tr>\n",
       "      <th>4</th>\n",
       "      <td>20-31.12.2020</td>\n",
       "      <td>9213</td>\n",
       "      <td>2521</td>\n",
       "      <td>702</td>\n",
       "      <td>6640</td>\n",
       "      <td>823.0</td>\n",
       "      <td>602</td>\n",
       "      <td>20387</td>\n",
       "      <td>0.0</td>\n",
       "      <td>-29.0</td>\n",
       "      <td>-48.0</td>\n",
       "      <td>-37.0</td>\n",
       "      <td>NaN</td>\n",
       "    </tr>\n",
       "  </tbody>\n",
       "</table>\n",
       "</div>"
      ],
      "text/plain": [
       "        Час/Дата   AES   TEC  VDE   TES     GES  GAES_GEN  CONSUMPTION  \\\n",
       "0  24-31.12.2020  9235  2039  621  4942   385.0         0        16693   \n",
       "1  23-31.12.2020  9221  2159  707  5549   470.0         0        17805   \n",
       "2  22-31.12.2020  9249  2377  709  5906  1000.0         0        18870   \n",
       "3  21-31.12.2020  9256  2499  702  6329   909.0       322        19887   \n",
       "4  20-31.12.2020  9213  2521  702  6640   823.0       602        20387   \n",
       "\n",
       "   GAES_PUMP  UK_BLR_RUS  UK_EURO  UK_MLD  Unnamed: 12  \n",
       "0     -405.0       -84.0    -11.0   -29.0          NaN  \n",
       "1        0.0       -43.0   -212.0   -46.0          NaN  \n",
       "2        0.0       -13.0   -328.0   -30.0          NaN  \n",
       "3        0.0         0.0    -64.0   -66.0          NaN  \n",
       "4        0.0       -29.0    -48.0   -37.0          NaN  "
      ]
     },
     "execution_count": 3,
     "metadata": {},
     "output_type": "execute_result"
    }
   ],
   "source": [
    "df = pd.read_excel(\"2014-2020.xlsx\")\n",
    "df.head()"
   ]
  },
  {
   "cell_type": "code",
   "execution_count": 4,
   "id": "8443a112",
   "metadata": {},
   "outputs": [],
   "source": [
    "df.rename({'GAES_GEN': 'GAES'}, axis=1, inplace=True)"
   ]
  },
  {
   "cell_type": "code",
   "execution_count": 5,
   "id": "baa3b3b0",
   "metadata": {},
   "outputs": [],
   "source": [
    "df['HOUR'] = df['Час/Дата'].str[:-11].astype(int)\n",
    "df['HOUR'] = np.where(df['HOUR'] > 9, df['HOUR'], '0' + df['HOUR'].astype(str))\n",
    "df['HOUR'] = np.where(df['HOUR'].astype(int) > 23, '00', df['HOUR'])"
   ]
  },
  {
   "cell_type": "code",
   "execution_count": 6,
   "id": "dd325e1d",
   "metadata": {},
   "outputs": [],
   "source": [
    "df['TIME'] = df['Час/Дата'].str[-4:] + '-' + df['Час/Дата'].str[-7:-5] + '-' + df['Час/Дата'].str[-10:-8] + ' ' + df['HOUR'].astype(str)"
   ]
  },
  {
   "cell_type": "code",
   "execution_count": 7,
   "id": "f8803cb5",
   "metadata": {},
   "outputs": [],
   "source": [
    "df['TIME'] = df['TIME'].astype('datetime64[ns]')"
   ]
  },
  {
   "cell_type": "code",
   "execution_count": 8,
   "id": "5ebc9a1b",
   "metadata": {},
   "outputs": [],
   "source": [
    "df = pd.melt(df, id_vars=['TIME', 'CONSUMPTION'], \n",
    "             value_vars=['AES', 'TEC', 'VDE', 'TES', 'GES', 'GAES'],\n",
    "            var_name='STRUCT_NAME', value_name='STRUCT_VAL')"
   ]
  },
  {
   "cell_type": "code",
   "execution_count": 9,
   "id": "3b5b0182",
   "metadata": {},
   "outputs": [
    {
     "data": {
      "text/html": [
       "<div>\n",
       "<style scoped>\n",
       "    .dataframe tbody tr th:only-of-type {\n",
       "        vertical-align: middle;\n",
       "    }\n",
       "\n",
       "    .dataframe tbody tr th {\n",
       "        vertical-align: top;\n",
       "    }\n",
       "\n",
       "    .dataframe thead th {\n",
       "        text-align: right;\n",
       "    }\n",
       "</style>\n",
       "<table border=\"1\" class=\"dataframe\">\n",
       "  <thead>\n",
       "    <tr style=\"text-align: right;\">\n",
       "      <th></th>\n",
       "      <th>TIME</th>\n",
       "      <th>CONSUMPTION</th>\n",
       "      <th>STRUCT_NAME</th>\n",
       "      <th>STRUCT_VAL</th>\n",
       "      <th>SEASON</th>\n",
       "    </tr>\n",
       "  </thead>\n",
       "  <tbody>\n",
       "    <tr>\n",
       "      <th>0</th>\n",
       "      <td>2020-12-31 00:00:00</td>\n",
       "      <td>16693</td>\n",
       "      <td>AES</td>\n",
       "      <td>9235.0</td>\n",
       "      <td>Winter</td>\n",
       "    </tr>\n",
       "    <tr>\n",
       "      <th>1</th>\n",
       "      <td>2020-12-31 23:00:00</td>\n",
       "      <td>17805</td>\n",
       "      <td>AES</td>\n",
       "      <td>9221.0</td>\n",
       "      <td>Winter</td>\n",
       "    </tr>\n",
       "    <tr>\n",
       "      <th>2</th>\n",
       "      <td>2020-12-31 22:00:00</td>\n",
       "      <td>18870</td>\n",
       "      <td>AES</td>\n",
       "      <td>9249.0</td>\n",
       "      <td>Winter</td>\n",
       "    </tr>\n",
       "    <tr>\n",
       "      <th>3</th>\n",
       "      <td>2020-12-31 21:00:00</td>\n",
       "      <td>19887</td>\n",
       "      <td>AES</td>\n",
       "      <td>9256.0</td>\n",
       "      <td>Winter</td>\n",
       "    </tr>\n",
       "    <tr>\n",
       "      <th>4</th>\n",
       "      <td>2020-12-31 20:00:00</td>\n",
       "      <td>20387</td>\n",
       "      <td>AES</td>\n",
       "      <td>9213.0</td>\n",
       "      <td>Winter</td>\n",
       "    </tr>\n",
       "  </tbody>\n",
       "</table>\n",
       "</div>"
      ],
      "text/plain": [
       "                 TIME  CONSUMPTION STRUCT_NAME  STRUCT_VAL  SEASON\n",
       "0 2020-12-31 00:00:00        16693         AES      9235.0  Winter\n",
       "1 2020-12-31 23:00:00        17805         AES      9221.0  Winter\n",
       "2 2020-12-31 22:00:00        18870         AES      9249.0  Winter\n",
       "3 2020-12-31 21:00:00        19887         AES      9256.0  Winter\n",
       "4 2020-12-31 20:00:00        20387         AES      9213.0  Winter"
      ]
     },
     "execution_count": 9,
     "metadata": {},
     "output_type": "execute_result"
    }
   ],
   "source": [
    "conditions = [\n",
    "    (df['TIME'].dt.month == 1) | (df['TIME'].dt.month == 2) | (df['TIME'].dt.month == 12),\n",
    "    (df['TIME'].dt.month == 3) | (df['TIME'].dt.month == 4) | (df['TIME'].dt.month == 5),\n",
    "    (df['TIME'].dt.month == 6) | (df['TIME'].dt.month == 7) | (df['TIME'].dt.month == 8),\n",
    "    (df['TIME'].dt.month == 9) | (df['TIME'].dt.month == 10) | (df['TIME'].dt.month == 11)\n",
    "]\n",
    "\n",
    "values = ['Winter', 'Spring', 'Summer', 'Autumn']\n",
    "\n",
    "df['SEASON'] = np.select(conditions, values)\n",
    "\n",
    "df.head()"
   ]
  },
  {
   "cell_type": "code",
   "execution_count": 10,
   "id": "123292c3",
   "metadata": {},
   "outputs": [
    {
     "name": "stdout",
     "output_type": "stream",
     "text": [
      "<class 'pandas.core.frame.DataFrame'>\n",
      "RangeIndex: 368208 entries, 0 to 368207\n",
      "Data columns (total 5 columns):\n",
      " #   Column       Non-Null Count   Dtype         \n",
      "---  ------       --------------   -----         \n",
      " 0   TIME         368208 non-null  datetime64[ns]\n",
      " 1   CONSUMPTION  368208 non-null  int64         \n",
      " 2   STRUCT_NAME  368208 non-null  object        \n",
      " 3   STRUCT_VAL   368207 non-null  float64       \n",
      " 4   SEASON       368208 non-null  object        \n",
      "dtypes: datetime64[ns](1), float64(1), int64(1), object(2)\n",
      "memory usage: 14.0+ MB\n"
     ]
    }
   ],
   "source": [
    "df.info()"
   ]
  },
  {
   "cell_type": "code",
   "execution_count": 11,
   "id": "cbdcf589",
   "metadata": {},
   "outputs": [],
   "source": [
    "textgrey = '#333333'\n",
    "ticksgray = '#999999'\n",
    "lightgray = '#E7E7E7'"
   ]
  },
  {
   "cell_type": "markdown",
   "id": "e1c32e78",
   "metadata": {},
   "source": [
    "## Як змінювалась структура генерації електроенергії за роками?"
   ]
  },
  {
   "cell_type": "markdown",
   "id": "7c5f71b0",
   "metadata": {},
   "source": [
    "Складові генерації: АЕС,ТЕЦ,ВДЕ,ТЕС,ГЕС,ГАЕС."
   ]
  },
  {
   "cell_type": "markdown",
   "id": "0994b9c7",
   "metadata": {},
   "source": [
    "Для цієї візуалізації я хотіла використати або Bar Chart, або Line Chart (передати кількість згенерованої енергії за допопмогою ліній різних кольорів). Але все ж зупинилася на варіанті з Bar Chart, бо він може гарно передати відношення кількості згенерованої енергії з одного джерела до загальної кількості згенерованої за рік енергії. І зможемо побачити скільки загалом було згенеровано електроенергії за певний рік."
   ]
  },
  {
   "cell_type": "code",
   "execution_count": 12,
   "id": "ffa8055f",
   "metadata": {},
   "outputs": [],
   "source": [
    "alt.Chart(df,\n",
    "         title = 'Зміна структури генерації електроенергії за роками'\n",
    "         ).mark_bar(size=60).encode(\n",
    "    x = alt.X('year(TIME):O',\n",
    "              title = None,\n",
    "              axis = alt.Axis(labelAngle = 0,\n",
    "                              labelAlign = 'center',\n",
    "                              labelPadding = 10.0,\n",
    "                              domain = False,\n",
    "                              tickColor = lightgray,            \n",
    "                             ),\n",
    "            ),\n",
    "    y = alt.Y('STRUCT_VAL:Q', \n",
    "              aggregate = 'sum',\n",
    "              title = 'К-сть енергії в МВт',\n",
    "              axis = alt.Axis(domain = False, \n",
    "                              labelPadding = 10.0, \n",
    "                              tickColor = lightgray,\n",
    "                              titleColor = textgrey,\n",
    "                             gridDash = [2, 2])\n",
    "             ),\n",
    "    color = alt.Color('STRUCT_NAME:N', title = 'Складові генерації'),\n",
    "    tooltip = [\n",
    "    alt.Tooltip(title = 'Складова', field = 'STRUCT_NAME', type = 'nominal'),\n",
    "    alt.Tooltip(title = 'К-сть енергії в МВт', field = 'STRUCT_VAL', type = 'quantitative', aggregate = 'sum'),\n",
    "    ]\n",
    ").properties(width = 700, height = 500, background = '#F9F9F9', padding = 25\n",
    ").configure_title(dx=0, \n",
    "                  dy=-20, \n",
    "                  color = textgrey, \n",
    "                  fontWeight=600, \n",
    "                  fontSize=14\n",
    ")"
   ]
  },
  {
   "cell_type": "markdown",
   "id": "825db36d",
   "metadata": {},
   "source": [
    "Однак на такому графіку важко порівняти к-сть енергії з одного і того самого джерела за різні роки, тому я зробила ще одну візуалізацію, на якій якраз можна побачити і порівняти, як змінювалася к-сть енергії одного і того ж джерела протягом різних років."
   ]
  },
  {
   "cell_type": "code",
   "execution_count": 13,
   "id": "e50d6144",
   "metadata": {},
   "outputs": [],
   "source": [
    "alt.Chart(df,\n",
    "         title = 'Зміна структури генерації електроенергії за роками'\n",
    "         ).mark_bar().encode(\n",
    "    x = alt.X('year(TIME):O',\n",
    "              title = None,\n",
    "              axis = alt.Axis(labelAngle = 0,\n",
    "                              labelAlign = 'center',\n",
    "                              labelPadding = 10.0,\n",
    "                              domain = False,\n",
    "                              tickColor = ticksgray\n",
    "                             ),\n",
    "             ),\n",
    "    y = alt.Y('STRUCT_VAL:Q', \n",
    "              aggregate = 'sum',\n",
    "              title = 'К-сть енергії в МВт',\n",
    "              axis = alt.Axis(domain = False, \n",
    "                              labelPadding = 10.0, \n",
    "                              tickColor = ticksgray,\n",
    "                              titleColor = textgrey,\n",
    "                              gridDash = [2, 2]\n",
    "                             )\n",
    "             ),\n",
    "    color = alt.Color('STRUCT_NAME:N', title = 'Складові генерації'),\n",
    "    tooltip = [\n",
    "    alt.Tooltip(title = 'Складова', field = 'STRUCT_NAME', type = 'nominal'),\n",
    "    alt.Tooltip(title = 'К-сть енергії в МВт', field = 'STRUCT_VAL', type = 'quantitative', aggregate = 'sum'),\n",
    "    ],\n",
    "    column = alt.Column('STRUCT_NAME:N', title = None),\n",
    ").properties(width = 750/len(pd.unique(df.STRUCT_NAME)), height = 500, background = '#F9F9F9', padding = 25\n",
    ").configure_title(dx=340, dy=-20, \n",
    "                  color = textgrey, \n",
    "                  fontWeight=600, \n",
    "                  fontSize=14)"
   ]
  },
  {
   "cell_type": "markdown",
   "id": "6cb16718",
   "metadata": {},
   "source": [
    "## Як залежить споживання електроенергії від дня року та години доби?"
   ]
  },
  {
   "cell_type": "markdown",
   "id": "4514026b",
   "metadata": {},
   "source": [
    "В цій візуалізації потрібно передати три величини, дві з яких час. Для цього може підійти heatmap. На вісях X та Y будуть часові проміжки, а кількість спожитої енерггії буде передаватися кольором.\n",
    "\n",
    "Оскільки у таблиці присутні дані за декілька років, кожна позначка на графіку буде середнім арефметичним, характерним для певної години певного дня.\n",
    "\n",
    "Мінус такого представлення в тому, що у нас буде 365 значень на осі Х, тому буде вадко роздивитися кожен окремий елемент, але ми зможемо подивитися на картину в цілому."
   ]
  },
  {
   "cell_type": "code",
   "execution_count": 14,
   "id": "69b66936",
   "metadata": {
    "scrolled": false
   },
   "outputs": [],
   "source": [
    "alt.Chart(df,\n",
    "         title={\n",
    "                \"text\": [\"Залежність споживання електроенергії від дня року та години доби\"], \n",
    "                \"subtitle\": [\"(кожна позначка на графіку - середнє арефметичне за 2014-2020рр, характерне для певної години певного дня)\"],\n",
    "                }\n",
    "         ).mark_rect().encode(\n",
    "    alt.Y('hoursminutes(TIME):O', title=None,\n",
    "          axis = alt.Axis(tickColor = lightgray, labelPadding = 5.0,),),\n",
    "    alt.X('monthdate(TIME):O', title=None,\n",
    "          axis = alt.Axis(ticks = False, labelPadding = 5.0,),\n",
    "         ),\n",
    "    alt.Color('CONSUMPTION:Q', \n",
    "              title='Споживання в МВт', \n",
    "              aggregate = 'average')\n",
    ").properties(width = 800, height = 500, background = '#F9F9F9', padding = 25\n",
    ").configure_title(dx=0, \n",
    "                  dy=-10, \n",
    "                  color = textgrey, \n",
    "                  fontWeight=600, \n",
    "                  fontSize=14)"
   ]
  },
  {
   "cell_type": "markdown",
   "id": "03977ff7",
   "metadata": {},
   "source": [
    "## Як змінюється генерація електроенергії з різних джерел впродовж доби?"
   ]
  },
  {
   "cell_type": "markdown",
   "id": "8d166889",
   "metadata": {},
   "source": [
    "Для того щоб візуалізувати Як змінювалася генерація енергії з різних джерел впродовж доби, я також обрала BarChart. Як і в першому завданні було б зручно використати стовпчики, передати скільки взагалі генерується енергії в такий час доби, в які години всередньому генерується більше енергії, а в які менше. Кольори ж відображають кількість кожної окремої складової (AES, GAS ...),. Розмір кожного кольорового сегменту на стовпчику дозволяє порівняти відношення кількість кожної складової до загальної кількості згенерованої енергії за годину. А також ми можемо порівняти кожен елемент генерації між собою за різгні години. Хоча через зміщення кольорових сегментів це не дуже зручно. Це і є мінусом цього представлення.\n",
    "\n",
    "Також я розглядала можливість використати Line Chart для цього представлення. Але на такому графіку було б важко порівняти як відноситься,наприклад, кількість згенерованої на Aes енергії до загальної кількості енергії згенерованої за певну годину дня. А також, ми б не бачили скільки загалом енергії генерується за певну годину."
   ]
  },
  {
   "cell_type": "code",
   "execution_count": 15,
   "id": "f5445ea2",
   "metadata": {},
   "outputs": [],
   "source": [
    "alt.Chart(df,\n",
    "         title = 'Зміна генерації електроенергії з різних джерел впродовж доби'\n",
    "         ).mark_bar().encode(\n",
    "    x = alt.X('hoursminutes(TIME):O',\n",
    "              title = None,\n",
    "              axis = alt.Axis(labelAngle = 0,\n",
    "                              labelAlign = 'center',\n",
    "                              labelPadding = 10.0,\n",
    "                              domain = False,\n",
    "                              ticks = False\n",
    "              ),\n",
    "             ),\n",
    "    y = alt.Y('STRUCT_VAL:Q', \n",
    "              aggregate = 'average',\n",
    "              title = 'К-сть енергії в МВт',\n",
    "              axis = alt.Axis(domain = False, \n",
    "                              labelPadding = 10.0, \n",
    "                              tickColor = lightgray,\n",
    "                              titleColor = textgrey,\n",
    "                              gridDash = [2, 2])\n",
    "             ),\n",
    "    color = alt.Color('STRUCT_NAME:N', title = 'Складові генерації'),\n",
    "    tooltip = [\n",
    "    alt.Tooltip(title = 'Складова', field = 'STRUCT_NAME', type = 'nominal'),\n",
    "    alt.Tooltip(title = 'К-сть енергії в МВт', field = 'STRUCT_VAL', type = 'quantitative', aggregate = 'average'),\n",
    "    ],\n",
    ").properties(width = 750, height = 500, background = '#F9F9F9', padding = 25\n",
    ").configure_title(dx=0, \n",
    "      dy=-20, \n",
    "      color = textgrey, \n",
    "      fontWeight=600, \n",
    "      fontSize=14,\n",
    ")"
   ]
  },
  {
   "cell_type": "markdown",
   "id": "e0ea9b65",
   "metadata": {},
   "source": [
    "## Як змінюється споживання електроенергії впродовж доби у розрізі місяців року та пір року?"
   ]
  },
  {
   "cell_type": "markdown",
   "id": "3ddf30f4",
   "metadata": {},
   "source": [
    "В даній візуалізації потрібно передати аж 4 величини. Я розбила це завдання на два графіки, перший стосується місяців, а другий пір року.\n",
    "\n",
    "Оскільки вісі Х та Y будуть передавати часові проміжки, споживання електро енергії доведеться передавати в якийсь інший спосіб. Для цього чудово підійде HeatMap, на якій третя величина - 'споживання електроенергії', буде передаватися кольором. Чим більша кількість спожитої енергії, тим темнішим буде відповідний квадрат на графіку.\n",
    "\n",
    "Мінус такого представлення - числові дані, а саме кількість  спожитої енергії, передаються дуже приблизно. Тобто навіть з присутністю Legend на якій описано якому діапазону кольорів відповідає який діапазон числових значень, буде важко визначити по кольору скільки там конкретно витраченої енергії. Глядачу може бути цікова дізнатися більш точне значення. На цей випадок я додала до графіку Tooltip. При на веденні на певний квадрат графіку, можна буде дізнатися точне числове значення якому він відповідає (дізнатися точну кількість спожитої енергії за певну годину певного місяця)."
   ]
  },
  {
   "cell_type": "code",
   "execution_count": 16,
   "id": "8afe4e1f",
   "metadata": {},
   "outputs": [],
   "source": [
    "alt.Chart(df,\n",
    "          title={\n",
    "                \"text\": [\"Споживання електроенергії впродовж доби у розрізі місяців року\"], \n",
    "                \"subtitle\": [\"(кожна позначка на графіку - середнє арефметичне за 2014-2020рр, характерне для певної години певного місяця)\"],\n",
    "                }\n",
    "         ).mark_rect().encode(\n",
    "    alt.Y('hoursminutes(TIME):O', title=None,\n",
    "          axis = alt.Axis(labelPadding = 5.0,),\n",
    "         ),\n",
    "    alt.X('month(TIME):O',\n",
    "          title = None,\n",
    "          axis = alt.Axis(labelAngle = 0,\n",
    "                          labelAlign = 'center',\n",
    "                          labelPadding = 10.0,\n",
    "                         ),\n",
    "         ),\n",
    "    alt.Color('CONSUMPTION:Q', title='consumption', aggregate = 'average')\n",
    ").properties(width = 800, height = 500, background = '#F9F9F9', padding = 25\n",
    ").configure_title(dx=0, \n",
    "      dy=-10, \n",
    "      color = textgrey, \n",
    "      fontWeight=600, \n",
    "      fontSize=14)"
   ]
  },
  {
   "cell_type": "markdown",
   "id": "d6a85f04",
   "metadata": {},
   "source": [
    "Наступний рафік більш узагальнена версія попереднього. Показує як змінюється споживання електроенергії залежно від години доби та  пори року."
   ]
  },
  {
   "cell_type": "code",
   "execution_count": 17,
   "id": "04ffc1d2",
   "metadata": {},
   "outputs": [],
   "source": [
    "alt.Chart(df, \n",
    "          title={\n",
    "                \"text\": [\"Споживання електроенергії впродовж доби у розрізі пір року\"], \n",
    "                \"subtitle\": [\"(кожна позначка на графіку - середнє арефметичне за 2014-2020рр, характерне для певної години певної пори року)\"],\n",
    "                }\n",
    "         ).mark_rect().encode(\n",
    "    alt.Y('hoursminutes(TIME):O', \n",
    "          title=None,\n",
    "          \n",
    "         ),\n",
    "    alt.X('SEASON:N', \n",
    "          title=None, \n",
    "          sort=['Spring', 'Summer', 'Autumn', 'Winter'],\n",
    "          axis = alt.Axis(labelAngle = 0,\n",
    "                          labelAlign = 'center',\n",
    "                          labelPadding = 10.0,\n",
    "                          labelFontSize = 12.0\n",
    "                         ),\n",
    "         ),\n",
    "    alt.Color('CONSUMPTION:Q', title='Споживання', aggregate = 'average'),\n",
    "    tooltip = [\n",
    "    alt.Tooltip(title = 'К-сть енергії в МВт', field = 'CONSUMPTION', type = 'quantitative', aggregate = 'average', format = '.4s'),\n",
    "    ],\n",
    ").properties(width = 800, height = 500, background = '#F9F9F9', padding = 25\n",
    ").configure_title(dx=0, \n",
    "                  dy=-10, \n",
    "                  color = textgrey, \n",
    "                  fontWeight=600, \n",
    "                  fontSize=14,\n",
    ")"
   ]
  },
  {
   "cell_type": "markdown",
   "id": "c0beea22",
   "metadata": {},
   "source": [
    "## Як змінюється споживання електроенергії впродовж тижня?"
   ]
  },
  {
   "cell_type": "markdown",
   "id": "12d25fab",
   "metadata": {},
   "source": [
    "Для цієї візуалізації я обрала Bar Chart, висота стовпчиків допоможе порівняти кількість споживання електроенергії протягом тижня.\n",
    "\n",
    "Також я додала кольори, як додатковий спосіб порівняння. Кольори просто допомагають одразу виділити в який день тижня споживання в середньому найменше(Неділля), а в який - найбільше(Четвер)."
   ]
  },
  {
   "cell_type": "code",
   "execution_count": 18,
   "id": "7c7f48f3",
   "metadata": {},
   "outputs": [],
   "source": [
    "alt.Chart(df, title = 'Споживання електроенергії впродовж тижня').mark_bar(size=60).encode(\n",
    "    x = alt.X('day(TIME):O',\n",
    "              title = None,\n",
    "              axis = alt.Axis(labelAngle = 0,\n",
    "                              labelAlign = 'center',\n",
    "                              labelPadding = 10.0,\n",
    "                              domain = False,\n",
    "                              ticks = False\n",
    "              ),\n",
    "             ),\n",
    "    y = alt.Y('CONSUMPTION:Q', \n",
    "              aggregate = 'average',\n",
    "              title = 'Споживання енергії в МВт (середнє арифметичне)',\n",
    "              axis = alt.Axis(domain = False, \n",
    "                              labelPadding = 10.0, \n",
    "                              tickColor = lightgray,\n",
    "                              titleColor = textgrey,\n",
    "                              gridDash = [2, 2])\n",
    "              ),\n",
    "    color = alt.Color('CONSUMPTION:Q', aggregate = 'average', legend=None),\n",
    "    tooltip = [\n",
    "    alt.Tooltip(title = 'К-сть енергії в МВт', field = 'CONSUMPTION', type = 'quantitative', aggregate = 'average', format = '.4s'),\n",
    "    ],\n",
    ").properties(width = 750, height = 500, background = '#F9F9F9', padding = 25\n",
    ").configure_title(dy=-20, \n",
    "      color = textgrey, \n",
    "      fontWeight=600, \n",
    "      fontSize=14)"
   ]
  },
  {
   "cell_type": "code",
   "execution_count": null,
   "id": "8ee7051c",
   "metadata": {},
   "outputs": [],
   "source": []
  }
 ],
 "metadata": {
  "kernelspec": {
   "display_name": "Python 3 (ipykernel)",
   "language": "python",
   "name": "python3"
  },
  "language_info": {
   "codemirror_mode": {
    "name": "ipython",
    "version": 3
   },
   "file_extension": ".py",
   "mimetype": "text/x-python",
   "name": "python",
   "nbconvert_exporter": "python",
   "pygments_lexer": "ipython3",
   "version": "3.9.7"
  }
 },
 "nbformat": 4,
 "nbformat_minor": 5
}
