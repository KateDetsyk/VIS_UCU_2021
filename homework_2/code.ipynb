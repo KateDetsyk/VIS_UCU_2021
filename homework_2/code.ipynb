{
 "cells": [
  {
   "cell_type": "markdown",
   "id": "e7584460",
   "metadata": {},
   "source": [
    "# 02 - Створіть візуалізації, котрі відповідають на поставлені питання"
   ]
  },
  {
   "cell_type": "markdown",
   "id": "e9d7a30a",
   "metadata": {},
   "source": [
    "Ваше завдання створити візуалізації, котрі відповідають на наступні питання:\n",
    "\n",
    "- Як змінювалась структура генерації електроенергії за роками?\n",
    "\n",
    "- Як залежить споживання електроенергії від дня року та години доби?\n",
    "\n",
    "- Як змінюється генерація електроенергії з різних джерел впродовж доби?\n",
    "\n",
    "- Як змінюється споживання електроенергії впродовж доби у розрізі місяців року та пір року?\n",
    "\n",
    "- Як змінюється споживання електроенергії впродовж тижня?\n",
    "\n",
    "Ви самостійно маєте обрати спосіб візуалізації. Ви також маєте написати короткий супровідний текст до кожної візуалізації, котрий пояснює, чому ви обрали саме цей спосіб презентації даних, які ще альтернативи ви розглядали, та чому зупинились саме на цьому варіанті (які його переваги та недоліки).\n",
    "\n",
    "Джерело даних: Національна енергетична компанія \"Укренерго\""
   ]
  },
  {
   "cell_type": "markdown",
   "id": "008e3d14",
   "metadata": {},
   "source": [
    "## Підготовка даних"
   ]
  },
  {
   "cell_type": "code",
   "execution_count": null,
   "id": "5b050645",
   "metadata": {},
   "outputs": [],
   "source": [
    "import pandas as pd\n",
    "import altair as alt\n",
    "import numpy as np"
   ]
  },
  {
   "cell_type": "code",
   "execution_count": null,
   "id": "1c60ac42",
   "metadata": {},
   "outputs": [],
   "source": [
    "alt.data_transformers.enable('default', max_rows=None)"
   ]
  },
  {
   "cell_type": "code",
   "execution_count": null,
   "id": "84634baf",
   "metadata": {},
   "outputs": [],
   "source": [
    "df = pd.read_excel(\"2014-2020.xlsx\")\n",
    "df.head()"
   ]
  },
  {
   "cell_type": "code",
   "execution_count": null,
   "id": "8443a112",
   "metadata": {},
   "outputs": [],
   "source": [
    "df.rename({'GAES_GEN': 'GAES'}, axis=1, inplace=True)"
   ]
  },
  {
   "cell_type": "code",
   "execution_count": null,
   "id": "baa3b3b0",
   "metadata": {},
   "outputs": [],
   "source": [
    "df['HOUR'] = df['Час/Дата'].str[:-11].astype(int)\n",
    "df['HOUR'] = np.where(df['HOUR'] > 9, df['HOUR'], '0' + df['HOUR'].astype(str))\n",
    "df['HOUR'] = np.where(df['HOUR'].astype(int) > 23, '00', df['HOUR'])"
   ]
  },
  {
   "cell_type": "code",
   "execution_count": null,
   "id": "dd325e1d",
   "metadata": {},
   "outputs": [],
   "source": [
    "df['TIME'] = df['Час/Дата'].str[-4:] + '-' + df['Час/Дата'].str[-7:-5] + '-' + df['Час/Дата'].str[-10:-8] + ' ' + df['HOUR'].astype(str)"
   ]
  },
  {
   "cell_type": "code",
   "execution_count": null,
   "id": "f8803cb5",
   "metadata": {},
   "outputs": [],
   "source": [
    "df['TIME'] = df['TIME'].astype('datetime64[ns]')"
   ]
  },
  {
   "cell_type": "code",
   "execution_count": null,
   "id": "5ebc9a1b",
   "metadata": {},
   "outputs": [],
   "source": [
    "df = pd.melt(df, id_vars=['TIME', 'CONSUMPTION'], \n",
    "             value_vars=['AES', 'TEC', 'VDE', 'TES', 'GES', 'GAES'],\n",
    "            var_name='STRUCT_NAME', value_name='STRUCT_VAL')"
   ]
  },
  {
   "cell_type": "code",
   "execution_count": null,
   "id": "3b5b0182",
   "metadata": {},
   "outputs": [],
   "source": [
    "conditions = [\n",
    "    (df['TIME'].dt.month == 1) | (df['TIME'].dt.month == 2) | (df['TIME'].dt.month == 12),\n",
    "    (df['TIME'].dt.month == 3) | (df['TIME'].dt.month == 4) | (df['TIME'].dt.month == 5),\n",
    "    (df['TIME'].dt.month == 6) | (df['TIME'].dt.month == 7) | (df['TIME'].dt.month == 8),\n",
    "    (df['TIME'].dt.month == 9) | (df['TIME'].dt.month == 10) | (df['TIME'].dt.month == 11)\n",
    "]\n",
    "\n",
    "values = ['Winter', 'Spring', 'Summer', 'Autumn']\n",
    "\n",
    "df['SEASON'] = np.select(conditions, values)\n",
    "\n",
    "df.head()"
   ]
  },
  {
   "cell_type": "code",
   "execution_count": null,
   "id": "123292c3",
   "metadata": {},
   "outputs": [],
   "source": [
    "df.info()"
   ]
  },
  {
   "cell_type": "code",
   "execution_count": null,
   "id": "cbdcf589",
   "metadata": {},
   "outputs": [],
   "source": [
    "textgrey = '#333333'\n",
    "ticksgray = '#999999'\n",
    "lightgray = '#E7E7E7'"
   ]
  },
  {
   "cell_type": "markdown",
   "id": "e1c32e78",
   "metadata": {},
   "source": [
    "## Як змінювалась структура генерації електроенергії за роками?"
   ]
  },
  {
   "cell_type": "markdown",
   "id": "7c5f71b0",
   "metadata": {},
   "source": [
    "Складові генерації: АЕС,ТЕЦ,ВДЕ,ТЕС,ГЕС,ГАЕС."
   ]
  },
  {
   "cell_type": "markdown",
   "id": "0994b9c7",
   "metadata": {},
   "source": [
    "Для цієї візуалізації я обрала bar chart, бо він може гарно передати відношення кількості згенерованої енергії з одного джерела до всієї кількості згенерованої енергії за рік.\n"
   ]
  },
  {
   "cell_type": "code",
   "execution_count": null,
   "id": "ffa8055f",
   "metadata": {},
   "outputs": [],
   "source": [
    "alt.Chart(df,\n",
    "         title = 'Зміна структури генерації електроенергії за роками'\n",
    "         ).mark_bar(size=60).encode(\n",
    "    x = alt.X('year(TIME):O',\n",
    "              title = None,\n",
    "              axis = alt.Axis(labelAngle = 0,\n",
    "                              labelAlign = 'center',\n",
    "                              labelPadding = 10.0,\n",
    "                              domain = False,\n",
    "                              tickColor = lightgray,            \n",
    "                             ),\n",
    "            ),\n",
    "    y = alt.Y('STRUCT_VAL:Q', \n",
    "              aggregate = 'sum',\n",
    "              title = 'К-сть енергії в МВт',\n",
    "              axis = alt.Axis(domain = False, \n",
    "                              labelPadding = 10.0, \n",
    "                              tickColor = lightgray,\n",
    "                              titleColor = textgrey,\n",
    "                             gridDash = [2, 2])\n",
    "             ),\n",
    "    color = alt.Color('STRUCT_NAME:N', title = 'Складові генерації'),\n",
    "    tooltip = [\n",
    "    alt.Tooltip(title = 'Складова', field = 'STRUCT_NAME', type = 'nominal'),\n",
    "    alt.Tooltip(title = 'К-сть енергії в МВт', field = 'STRUCT_VAL', type = 'quantitative', aggregate = 'sum'),\n",
    "    ]\n",
    ").properties(width = 700, height = 500, background = '#F9F9F9', padding = 25\n",
    ").configure_title(dx=0, \n",
    "                  dy=-20, \n",
    "                  color = textgrey, \n",
    "                  fontWeight=600, \n",
    "                  fontSize=14\n",
    ")"
   ]
  },
  {
   "cell_type": "markdown",
   "id": "825db36d",
   "metadata": {},
   "source": [
    "Однак на такому графіку важко порівняти к-сть енергії з одного і того самого джерела за різні роки, тому я зробила ще одну візуалізаію, на якій якраз можна побачити і порівняти, як змінювалася к-сть енергії одного і того ж джерела протягом різних років."
   ]
  },
  {
   "cell_type": "code",
   "execution_count": null,
   "id": "e50d6144",
   "metadata": {},
   "outputs": [],
   "source": [
    "alt.Chart(df,\n",
    "         title = 'Зміна структури генерації електроенергії за роками'\n",
    "         ).mark_bar().encode(\n",
    "    x = alt.X('year(TIME):O',\n",
    "              title = None,\n",
    "              axis = alt.Axis(labelAngle = 0,\n",
    "                              labelAlign = 'center',\n",
    "                              labelPadding = 10.0,\n",
    "                              domain = False,\n",
    "                              tickColor = ticksgray\n",
    "                             ),\n",
    "             ),\n",
    "    y = alt.Y('STRUCT_VAL:Q', \n",
    "              aggregate = 'sum',\n",
    "              title = 'К-сть енергії в МВт',\n",
    "              axis = alt.Axis(domain = False, \n",
    "                              labelPadding = 10.0, \n",
    "                              tickColor = ticksgray,\n",
    "                              titleColor = textgrey,\n",
    "                              gridDash = [2, 2]\n",
    "                             )\n",
    "             ),\n",
    "    color = alt.Color('STRUCT_NAME:N', title = 'Складові генерації'),\n",
    "    tooltip = [\n",
    "    alt.Tooltip(title = 'Складова', field = 'STRUCT_NAME', type = 'nominal'),\n",
    "    alt.Tooltip(title = 'К-сть енергії в МВт', field = 'STRUCT_VAL', type = 'quantitative', aggregate = 'sum'),\n",
    "    ],\n",
    "    column = alt.Column('STRUCT_NAME:N', title = None),\n",
    ").properties(width = 750/len(pd.unique(df.STRUCT_NAME)), height = 500, background = '#F9F9F9', padding = 25\n",
    ").configure_title(dx=340, dy=-20, \n",
    "                  color = textgrey, \n",
    "                  fontWeight=600, \n",
    "                  fontSize=14)"
   ]
  },
  {
   "cell_type": "markdown",
   "id": "6cb16718",
   "metadata": {},
   "source": [
    "## Як залежить споживання електроенергії від дня року та години доби?"
   ]
  },
  {
   "cell_type": "markdown",
   "id": "4514026b",
   "metadata": {},
   "source": [
    "В цій візуалізації потрібно передати три величини, дві з яких час. Для цього може підійти heatmap. На вісях X та Y будуть часові проміжки, а кількість спожитої енерггії буде передаватися кольором.\n",
    "\n",
    "Оскільки у таблиці присутні дані за декілька років, кожна позначка на графіку буде середнім арефметичним, характерним для певної години певного дня.\n",
    "\n",
    "Мінус такого представлення в тому, що у нас буде 365 значень на осі Х, тому буде вадко роздивитися кожен окремий елемент, але ми зможемо подивитися на картину в цілому."
   ]
  },
  {
   "cell_type": "code",
   "execution_count": null,
   "id": "69b66936",
   "metadata": {
    "scrolled": false
   },
   "outputs": [],
   "source": [
    "alt.Chart(df,\n",
    "         title={\n",
    "                \"text\": [\"Залежність споживання електроенергії від дня року та години доби\"], \n",
    "                \"subtitle\": [\"(кожна позначка на графіку - середнє арефметичне за 2014-2020рр, характерне для певної години певного дня)\"],\n",
    "                }\n",
    "         ).mark_rect().encode(\n",
    "    alt.Y('hoursminutes(TIME):O', title=None,\n",
    "          axis = alt.Axis(tickColor = lightgray, labelPadding = 5.0,),),\n",
    "    alt.X('monthdate(TIME):O', title=None,\n",
    "          axis = alt.Axis(ticks = False, labelPadding = 5.0,),\n",
    "         ),\n",
    "    alt.Color('CONSUMPTION:Q', \n",
    "              title='Споживання в МВт', \n",
    "              aggregate = 'average')\n",
    ").properties(width = 800, height = 500, background = '#F9F9F9', padding = 25\n",
    ").configure_title(dx=0, \n",
    "                  dy=-10, \n",
    "                  color = textgrey, \n",
    "                  fontWeight=600, \n",
    "                  fontSize=14)"
   ]
  },
  {
   "cell_type": "markdown",
   "id": "03977ff7",
   "metadata": {},
   "source": [
    "## Як змінюється генерація електроенергії з різних джерел впродовж доби?"
   ]
  },
  {
   "cell_type": "code",
   "execution_count": null,
   "id": "f5445ea2",
   "metadata": {},
   "outputs": [],
   "source": [
    "alt.Chart(df,\n",
    "         title = 'Зміна генерації електроенергії з різних джерел впродовж доби'\n",
    "         ).mark_bar().encode(\n",
    "    x = alt.X('hoursminutes(TIME):O',\n",
    "              title = None,\n",
    "              axis = alt.Axis(labelAngle = 0,\n",
    "                              labelAlign = 'center',\n",
    "                              labelPadding = 10.0,\n",
    "                              domain = False,\n",
    "                              ticks = False\n",
    "              ),\n",
    "             ),\n",
    "    y = alt.Y('STRUCT_VAL:Q', \n",
    "              aggregate = 'average',\n",
    "              title = 'К-сть енергії в МВт',\n",
    "              axis = alt.Axis(domain = False, \n",
    "                              labelPadding = 10.0, \n",
    "                              tickColor = lightgray,\n",
    "                              titleColor = textgrey,\n",
    "                              gridDash = [2, 2])\n",
    "             ),\n",
    "    color = alt.Color('STRUCT_NAME:N', title = 'Складові генерації'),\n",
    "    tooltip = [\n",
    "    alt.Tooltip(title = 'Складова', field = 'STRUCT_NAME', type = 'nominal'),\n",
    "    alt.Tooltip(title = 'К-сть енергії в МВт', field = 'STRUCT_VAL', type = 'quantitative', aggregate = 'average'),\n",
    "    ],\n",
    ").properties(width = 750, height = 500, background = '#F9F9F9', padding = 25\n",
    ").configure_title(dx=0, \n",
    "      dy=-20, \n",
    "      color = textgrey, \n",
    "      fontWeight=600, \n",
    "      fontSize=14,\n",
    ")"
   ]
  },
  {
   "cell_type": "markdown",
   "id": "e0ea9b65",
   "metadata": {},
   "source": [
    "## Як змінюється споживання електроенергії впродовж доби у розрізі місяців року та пір року?"
   ]
  },
  {
   "cell_type": "markdown",
   "id": "3ddf30f4",
   "metadata": {},
   "source": [
    "Я розбила це завдання на два графіки, перший стосується місяців, а другий пір року."
   ]
  },
  {
   "cell_type": "code",
   "execution_count": null,
   "id": "8afe4e1f",
   "metadata": {},
   "outputs": [],
   "source": [
    "alt.Chart(df,\n",
    "          title={\n",
    "                \"text\": [\"Споживання електроенергії впродовж доби у розрізі місяців року\"], \n",
    "                \"subtitle\": [\"(кожна позначка на графіку - середнє арефметичне за 2014-2020рр, характерне для певної години певного місяця)\"],\n",
    "                }\n",
    "         ).mark_rect().encode(\n",
    "    alt.Y('hoursminutes(TIME):O', title=None,\n",
    "          axis = alt.Axis(labelPadding = 5.0,),\n",
    "         ),\n",
    "    alt.X('month(TIME):O',\n",
    "          title = None,\n",
    "          axis = alt.Axis(labelAngle = 0,\n",
    "                          labelAlign = 'center',\n",
    "                          labelPadding = 10.0,\n",
    "                         ),\n",
    "         ),\n",
    "    alt.Color('CONSUMPTION:Q', title='consumption', aggregate = 'average')\n",
    ").properties(width = 800, height = 500, background = '#F9F9F9', padding = 25\n",
    ").configure_title(dx=0, \n",
    "      dy=-10, \n",
    "      color = textgrey, \n",
    "      fontWeight=600, \n",
    "      fontSize=14)"
   ]
  },
  {
   "cell_type": "markdown",
   "id": "d6a85f04",
   "metadata": {},
   "source": [
    "Наступний рафік більш узагальнена версія попереднього. Показує як змінюється споживання електроенергії залежно від години доби та  пори року."
   ]
  },
  {
   "cell_type": "code",
   "execution_count": null,
   "id": "04ffc1d2",
   "metadata": {},
   "outputs": [],
   "source": [
    "alt.Chart(df, \n",
    "          title={\n",
    "                \"text\": [\"Споживання електроенергії впродовж доби у розрізі пір року\"], \n",
    "                \"subtitle\": [\"(кожна позначка на графіку - середнє арефметичне за 2014-2020рр, характерне для певної години певної пори року)\"],\n",
    "                }\n",
    "         ).mark_rect().encode(\n",
    "    alt.Y('hoursminutes(TIME):O', \n",
    "          title=None,\n",
    "          \n",
    "         ),\n",
    "    alt.X('SEASON:N', \n",
    "          title=None, \n",
    "          sort=['Spring', 'Summer', 'Autumn', 'Winter'],\n",
    "          axis = alt.Axis(labelAngle = 0,\n",
    "                          labelAlign = 'center',\n",
    "                          labelPadding = 10.0,\n",
    "                          labelFontSize = 12.0\n",
    "                         ),\n",
    "         ),\n",
    "    alt.Color('CONSUMPTION:Q', title='Споживання', aggregate = 'average'),\n",
    "    tooltip = [\n",
    "    alt.Tooltip(title = 'К-сть енергії в МВт', field = 'CONSUMPTION', type = 'quantitative', aggregate = 'average', format = '.4s'),\n",
    "    ],\n",
    ").properties(width = 800, height = 500, background = '#F9F9F9', padding = 25\n",
    ").configure_title(dx=0, \n",
    "                  dy=-10, \n",
    "                  color = textgrey, \n",
    "                  fontWeight=600, \n",
    "                  fontSize=14,\n",
    ")"
   ]
  },
  {
   "cell_type": "markdown",
   "id": "c0beea22",
   "metadata": {},
   "source": [
    "## Як змінюється споживання електроенергії впродовж тижня?"
   ]
  },
  {
   "cell_type": "markdown",
   "id": "12d25fab",
   "metadata": {},
   "source": [
    "Для цієї візуалізації я обрала Bar Chart, висота стовпчиків допоможе порівняти кількість споживання електроенергії протягом тижня.\n",
    "\n",
    "Також я додала кольори, як допоміжну функцію. Основний спосіб порівняння всетаки по висоті стовпчика. Кольори просто допомагають одразу виділити в який день тижня споживання в середньому найменше(Неділля), а в який - найбільше(Четвер).\n"
   ]
  },
  {
   "cell_type": "code",
   "execution_count": null,
   "id": "7c7f48f3",
   "metadata": {},
   "outputs": [],
   "source": [
    "alt.Chart(df, title = 'Споживання електроенергії впродовж тижня').mark_bar(size=60).encode(\n",
    "    x = alt.X('day(TIME):O',\n",
    "              title = None,\n",
    "              axis = alt.Axis(labelAngle = 0,\n",
    "                              labelAlign = 'center',\n",
    "                              labelPadding = 10.0,\n",
    "                              domain = False,\n",
    "                              ticks = False\n",
    "              ),\n",
    "             ),\n",
    "    y = alt.Y('CONSUMPTION:Q', \n",
    "              aggregate = 'average',\n",
    "              title = 'Споживання енергії в МВт (середнє арифметичне)',\n",
    "              axis = alt.Axis(domain = False, \n",
    "                              labelPadding = 10.0, \n",
    "                              tickColor = lightgray,\n",
    "                              titleColor = textgrey,\n",
    "                              gridDash = [2, 2])\n",
    "              ),\n",
    "    color = alt.Color('CONSUMPTION:Q', aggregate = 'average', legend=None),\n",
    "    tooltip = [\n",
    "    alt.Tooltip(title = 'К-сть енергії в МВт', field = 'CONSUMPTION', type = 'quantitative', aggregate = 'average', format = '.4s'),\n",
    "    ],\n",
    ").properties(width = 750, height = 500, background = '#F9F9F9', padding = 25\n",
    ").configure_title(dy=-20, \n",
    "      color = textgrey, \n",
    "      fontWeight=600, \n",
    "      fontSize=14)"
   ]
  },
  {
   "cell_type": "code",
   "execution_count": null,
   "id": "8ee7051c",
   "metadata": {},
   "outputs": [],
   "source": []
  }
 ],
 "metadata": {
  "kernelspec": {
   "display_name": "Python 3 (ipykernel)",
   "language": "python",
   "name": "python3"
  },
  "language_info": {
   "codemirror_mode": {
    "name": "ipython",
    "version": 3
   },
   "file_extension": ".py",
   "mimetype": "text/x-python",
   "name": "python",
   "nbconvert_exporter": "python",
   "pygments_lexer": "ipython3",
   "version": "3.9.7"
  }
 },
 "nbformat": 4,
 "nbformat_minor": 5
}
